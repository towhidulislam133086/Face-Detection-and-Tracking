{
 "cells": [
  {
   "cell_type": "markdown",
   "metadata": {},
   "source": [
    "# Face Detection\n",
    "### Detect the face from a digital image"
   ]
  },
  {
   "cell_type": "code",
   "execution_count": 6,
   "metadata": {},
   "outputs": [],
   "source": [
    "import cv2"
   ]
  },
  {
   "cell_type": "markdown",
   "metadata": {},
   "source": [
    "## Steps of face detection\n",
    "- Loading haar cascade face algorithm\n",
    "- Initializing the camera\n",
    "- Reading frame from camera\n",
    "- Converting color image into cascade image\n",
    "- Obtaining face coordinates by passing algorithm\n",
    "- Drawing rectangle on the face coordinates\n",
    "- Display the output frame"
   ]
  },
  {
   "cell_type": "code",
   "execution_count": 10,
   "metadata": {},
   "outputs": [],
   "source": [
    "alg = \"haarcascade_frontalface_default.xml\"\n",
    "haar_cascade = cv2.CascadeClassifier(alg) # Load the algorithm\n",
    "\n",
    "cam = cv2.VideoCapture(0) # Initializing the camera\n",
    "\n",
    "while True:\n",
    "    _,img = cam.read() # reading frame from the camera\n",
    "    grayImg = cv2.cvtColor(img, cv2.COLOR_BGR2GRAY) # Converting gray scale image\n",
    "    \n",
    "    face = haar_cascade.detectMultiScale(grayImg, 1.3, 4) # gives the parameter of the face->src, scalefactor,minNeighbors\n",
    "    \n",
    "    for(x,y,w,h) in face:\n",
    "        cv2.rectangle(img, (x,y), (x+w, y+h), (0, 255, 0), 2) # Draw rectangle with the face-> src, coordinate, color, thickness\n",
    "        \n",
    "    cv2.imshow(\"FaceDetection\", img) #Display the face rectangle\n",
    "    \n",
    "    key = cv2.waitKey(1) & 0xFF # For closing the window\n",
    "    if key == ord(\"q\"):\n",
    "        break\n",
    "        \n",
    "cam.release()  \n",
    "cv2.destroyAllWindows()\n",
    "    \n",
    "    \n",
    "    \n",
    "\n"
   ]
  },
  {
   "cell_type": "markdown",
   "metadata": {},
   "source": [
    "## Output:\n",
    "![output](./image/facedetection.JPG)"
   ]
  },
  {
   "cell_type": "code",
   "execution_count": null,
   "metadata": {},
   "outputs": [],
   "source": []
  }
 ],
 "metadata": {
  "kernelspec": {
   "display_name": "Python 3",
   "language": "python",
   "name": "python3"
  },
  "language_info": {
   "codemirror_mode": {
    "name": "ipython",
    "version": 3
   },
   "file_extension": ".py",
   "mimetype": "text/x-python",
   "name": "python",
   "nbconvert_exporter": "python",
   "pygments_lexer": "ipython3",
   "version": "3.6.4"
  }
 },
 "nbformat": 4,
 "nbformat_minor": 2
}
